{
 "cells": [
  {
   "cell_type": "code",
   "execution_count": 34,
   "id": "eb1f5a98",
   "metadata": {},
   "outputs": [],
   "source": [
    "import os\n",
    "import sys\n",
    "import numpy as np\n",
    "from typing import Callable\n",
    "\n",
    "# Add a path to a directory with distance_measures module\n",
    "parent_dir = os.path.abspath(os.path.join(os.getcwd(), '..'))\n",
    "sys.path.insert(0, parent_dir)\n",
    "\n",
    "import distance_measures as measures\n"
   ]
  },
  {
   "cell_type": "code",
   "execution_count": 35,
   "id": "d83d5922",
   "metadata": {},
   "outputs": [],
   "source": [
    "class KMeans:\n",
    "    \"\"\"\n",
    "    Implementation of k-means clustering algorithm.\n",
    "\n",
    "    Parameters:\n",
    "        k (int): Number of centroids (clusters).\n",
    "        dist_meas (Callable): Dissimilarity measure function (e.g., Euclidean distance).\n",
    "    \"\"\"\n",
    "\n",
    "    def __init__(\n",
    "        self,\n",
    "        k: int,\n",
    "        dist_meas: Callable[[np.ndarray, np.ndarray], float]\n",
    "    ) -> None:\n",
    "        \"\"\"\n",
    "        Initialize the KMeans clustering algorithm.\n",
    "\n",
    "        Args:\n",
    "            k (int): Number of centroids.\n",
    "            dist_meas (Callable): Dissimilarity measure function.\n",
    "        \"\"\"\n",
    "        self.k: int = k\n",
    "        self.dist_meas: Callable[[np.ndarray, np.ndarray], float] = dist_meas\n",
    "\n",
    "    def _generate_centroids(\n",
    "        self,\n",
    "        X: np.ndarray,\n",
    "        m: int\n",
    "    ) -> np.ndarray:\n",
    "        \"\"\"\n",
    "        Generate k centroids by computing the mean of m randomly drawn data points (with replacement).\n",
    "\n",
    "        Args:\n",
    "            X (np.ndarray): Input data of shape (n_samples, n_features).\n",
    "            m (int): Number of data points to average for each centroid.\n",
    "\n",
    "        Returns:\n",
    "            np.ndarray: Array of shape (k, n_features) containing the centroids.\n",
    "        \"\"\"\n",
    "        n, p = X.shape  # n: number of samples, p: number of features\n",
    "\n",
    "        # Initialize centroids array\n",
    "        centroids: np.ndarray = np.zeros((self.k, p), dtype=np.float32)\n",
    "\n",
    "        for centr_id in range(self.k):\n",
    "            # Randomly select a starting index for a slice of m samples\n",
    "            slice_start: int = np.random.randint(0, n - m)\n",
    "            # Draw m vectors from X\n",
    "            vectors: np.ndarray = X[slice_start: slice_start + m]\n",
    "            # Compute the mean vector to serve as a centroid\n",
    "            centroid: np.ndarray = np.mean(vectors, axis=0)\n",
    "            centroids[centr_id] = centroid\n",
    "\n",
    "        return centroids"
   ]
  }
 ],
 "metadata": {
  "kernelspec": {
   "display_name": "Python 3",
   "language": "python",
   "name": "python3"
  },
  "language_info": {
   "codemirror_mode": {
    "name": "ipython",
    "version": 3
   },
   "file_extension": ".py",
   "mimetype": "text/x-python",
   "name": "python",
   "nbconvert_exporter": "python",
   "pygments_lexer": "ipython3",
   "version": "3.12.0"
  }
 },
 "nbformat": 4,
 "nbformat_minor": 5
}
